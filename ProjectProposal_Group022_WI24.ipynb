{
 "cells": [
  {
   "cell_type": "markdown",
   "metadata": {},
   "source": [
    "# COGS 108 - Project Proposal"
   ]
  },
  {
   "cell_type": "markdown",
   "metadata": {},
   "source": [
    "# Names\n",
    "\n",
    "- Marina Hu\n",
    "- Allison Huang\n",
    "- Samuel Lee\n",
    "- Audrey Liang\n",
    "- Lilian Xia "
   ]
  },
  {
   "cell_type": "markdown",
   "metadata": {},
   "source": [
    "# Research Question"
   ]
  },
  {
   "cell_type": "markdown",
   "metadata": {},
   "source": [
    "-  Include a specific, clear data science question.\n",
    "-  Make sure what you're measuring (variables) to answer the question is clear\n",
    "\n",
    "What is your research question? Include the specific question you're setting out to answer. This question should be specific, answerable with data, and clear. A general question with specific subquestions is permitted. (1-2 sentences)\n",
    "\n"
   ]
  },
  {
   "cell_type": "markdown",
   "metadata": {},
   "source": [
    "## Background and Prior Work"
   ]
  },
  {
   "cell_type": "markdown",
   "metadata": {},
   "source": [
    "COVID-19 has changed the life in many aspects. In response to COVID-19, many goverments issued mandatory stay-at-home policy. Boman and Gallupe (2020) found that the lockdown policy had some unintended impacts on the United States in which crime has decreased after the pandemic. However, after breaking down the crime categories, they found that the drop was driven by decreases in minor offenses, while serious crimes either remained constant or increased. \n",
    "\n",
    "Narrowing down the interest about the pandemic and crime to California specifically, there were also variabilities of crime rates in terms of the types of crimes committed and the regions (Lofstorm & Martin, 2023). \n",
    "\n",
    "\n",
    "- Include a general introduction to your topic\n",
    "- Include explanation of what work has been done previously\n",
    "- Include citations or links to previous work\n",
    "\n",
    "This section will present the background and context of your topic and question in a few paragraphs. Include a general introduction to your topic and then describe what information you currently know about the topic after doing your initial research. Include references to other projects who have asked similar questions or approached similar problems. Explain what others have learned in their projects.\n",
    "\n",
    "Find some relevant prior work, and reference those sources, summarizing what each did and what they learned. Even if you think you have a totally novel question, find the most similar prior work that you can and discuss how it relates to your project.\n",
    "\n",
    "References can be research publications, but they need not be. Blogs, GitHub repositories, company websites, etc., are all viable references if they are relevant to your project. It must be clear which information comes from which references. (2-3 paragraphs, including at least 2 references)\n",
    "\n",
    " **Use inline citation through HTML footnotes to specify which references support which statements** \n",
    "\n",
    "For example: After government genocide in the 20th century, real birds were replaced with surveillance drones designed to look just like birds.<a name=\"cite_ref-1\"></a>[<sup>1</sup>](#cite_note-1) Use a minimum of 2 or 3 citations, but we prefer more.<a name=\"cite_ref-2\"></a>[<sup>2</sup>](#cite_note-2) You need enough to fully explain and back up important facts. \n",
    "\n",
    "Note that if you click a footnote number in the paragraph above it will transport you to the proper entry in the footnotes list below.  And if you click the ^ in the footnote entry, it will return you to the place in the main text where the footnote is made.\n",
    "\n",
    "To understand the HTML here, `<a name=\"#...\"> </a>` is a tag that allows you produce a named reference for a given location.  Markdown has the construciton `[text with hyperlink](#named reference)` that will produce a clickable link that transports you the named reference.\n",
    "\n",
    "1. <a name=\"cite_note-1\"></a> [^](#cite_ref-1) Lorenz, T. (9 Dec 2021) Birds Aren’t Real, or Are They? Inside a Gen Z Conspiracy Theory. *The New York Times*. https://www.nytimes.com/2021/12/09/technology/birds-arent-real-gen-z-misinformation.html \n",
    "2. <a name=\"cite_note-2\"></a> [^](#cite_ref-2) Also refs should be important to the background, not some randomly chosen vaguely related stuff. Include a web link if possible in refs as above.\n"
   ]
  },
  {
   "cell_type": "markdown",
   "metadata": {},
   "source": [
    "# Hypothesis\n"
   ]
  },
  {
   "cell_type": "markdown",
   "metadata": {},
   "source": [
    "\n",
    "Because California is the most populated state in the nation, we hypothesize that California was impacted the most due to COVID-19. Furthermore, because of COVID-19's rising unemployment rates and driving socioeconomic disparities even more, we hypothesize that there is a relationship between states more heavily impacted by COVID-19 and rising serious crime rates, and we’ll specifically see this in California’s data. "
   ]
  },
  {
   "cell_type": "markdown",
   "metadata": {},
   "source": [
    "# Data"
   ]
  },
  {
   "cell_type": "markdown",
   "metadata": {},
   "source": [
    "1. The ***ideal dataset*** would be one data sheet that has the death rate, hospitalization rate, vaccination rate, unemployment rate, average daily cases, and crime rates from March 2020 to December 2022 for all 50 states altogether. On this one datasheet, there would ideally be 50 observations for each of the states, but for each state, there should be monthly average data for each of the variables (mentioned previously). The data would be collected by a credible source like the CDC or a governmental health agency, and this data would already be cleaned and stored in an Excel spreadsheet.\n",
    "\n",
    "2. Search for potential **real** datasets that could provide you with something useful for this project.  You do not have to find every piece of data you will use, but you do need to have demonstrated some idea that (a) this data is gettable and (b) that this data may be different from what your ideal is."
   ]
  },
  {
   "cell_type": "markdown",
   "metadata": {},
   "source": [
    "### 2\n",
    "For the first topic regarding the impact of COVID-19 across different areas within states, a potential dataset that could provide useful insights is the COVID-19 confirmed cases and deaths dataset provided by the Centers for Disease Control and Prevention (CDC) or state health departments. These datasets typically include information on the number of cases, deaths, demographics, and geographic location (such as county or zip code level) of COVID-19 patients. For example, [this data](https://data.cdc.gov/Public-Health-Surveillance/United-States-COVID-19-County-Level-of-Community-T/8396-v7yb/about_data) contains several columns like county, new cases, community transmission level, etc., which is a good dataset for us to analyze.\n",
    "\n",
    "For the second topic regarding the correlation between types of crimes committed within California and their locations, a potential dataset that could be useful is the Uniform Crime Reporting (UCR) Program dataset provided by the Federal Bureau of Investigation (FBI) or the California Department of Justice. However, since there is an enormous amount of data available, more research needs to be conducted to find the appropriate datasets for our projects. In addition, obtaining detailed crime data at a granular level might be more challenging due to privacy concerns and data reporting practices of law enforcement agencies. Many data we have seen are presented as data tables rather than raw data, which is harder for us to analyze, especially coupled with COVID-19."
   ]
  },
  {
   "cell_type": "markdown",
   "metadata": {},
   "source": [
    "# Ethics & Privacy"
   ]
  },
  {
   "cell_type": "markdown",
   "metadata": {},
   "source": [
    "In regards to potential ethical concerns of this project, there may be various biases depending on the specific dataset used. For crime data, it is likely that datasets are not reflective of all the crimes committed in a specific state or region but rather only those reported by the police. When conducting our analyses, we need to be aware of this potential collection bias as certain crimes may be underreported or overreported due to factors like law enforcement, community awareness campaigns, recent events, etc. Additionally, we need to consider many potential confounding variables in our analysis; for example, crime rates can vary based on geographical and demographic factors like population density, socioeconomic status, and cultural influences. Any correlations or associations found from our analyses may be due to a range of factors that may not be directly identified through our datasets. Similarly, for COVID-19 data, it is likely that datasets are subject to testing and reporting biases that are influenced by the availability and accessibility to testing resources and healthcare facilities in certain regions and populations. Differences in case definitions, data collection methods, and reporting protocols may create variations in the data cross regions. Confounding variables like asymptomatic cases, pre-existing health conditions, and public health interventions can also skew the measures of the “impact” of COVID-19. Keeping these considerations in mind, we can closely review how data was collected to see if certain groups were potentially overrepresented or underrepresented in the dataset. We can also look for any inconsistencies, missing values, or data entry errors that potentially affect the integrity of the dataset and consider whether this is due to any systematic biases in data collection practices. Statistical techniques can also be used to detect patterns, outliers, and anomalies in the data and help control for confounding variables. Lastly, we can compare and cross-reference multiple datasets from different sources to validate our findings and identify potential biases.\n",
    "\n",
    "In general, in regards to privacy, no Personal Identifiable Information is being used because the data collected are more generalized by region. We should also keep in consideration that many crime and COVID-19 datasets are collected and maintained by law enforcement agencies or the government and therefore may be subject to terms of use agreements, restricting how data can be accessed or shared. Another general issue with this topic is data transparency as we want to ensure that findings in this research study avoid selective reporting or manipulation of data to fit a particular narrative. To address this, we should work to address any potential blindspots and work to mitigate any dataset bias such as stereotype perpetuation and confirmation bias. Another issue to consider is fairness and equity as a potential concern is that analyzing crime data in correlation with COVID-19 impact may reveal disparities in the distribution of resources, access to healthcare, and exposure to risk factors across marginalized populations. In our analysis, we should consider potential unintended consequences and prevent data from being misinterpreted or used to justify any discriminatory practices or policies."
   ]
  },
  {
   "cell_type": "markdown",
   "metadata": {},
   "source": [
    "# Team Expectations "
   ]
  },
  {
   "cell_type": "markdown",
   "metadata": {},
   "source": [
    "\n",
    "* *Team Expectation 1: Communication*\n",
    "    - Please make sure to tell the group if you can't finish your work by the deadline, or if any problems come up. If you can't make a meeting, be sure to let everybody know in the group discord. \n",
    "* *Team Expectation 2: Work Style*\n",
    "    - The team will have designated work during the meetings before the due dates and will try to follow the project timeline as best as possible to ensure that we are all caught up on work. \n",
    "* *Team Expecation 3: Conflict Resolution*\n",
    "    - If any problems arise, the team will either bring it up at the weekly Wednesday meeting or bring it up in the general discord channel. "
   ]
  },
  {
   "cell_type": "markdown",
   "metadata": {},
   "source": [
    "# Project Timeline Proposal"
   ]
  },
  {
   "cell_type": "markdown",
   "metadata": {},
   "source": [
    "Specify your team's specific project timeline. An example timeline has been provided. Changes the dates, times, names, and details to fit your group's plan.\n",
    "\n",
    "If you think you will need any special resources or training outside what we have covered in COGS 108 to solve your problem, then your proposal should state these clearly. For example, if you have selected a problem that involves implementing multiple neural networks, please state this so we can make sure you know what you’re doing and so we can point you to resources you will need to implement your project. Note that you are not required to use outside methods.\n",
    "\n",
    "\n",
    "\n",
    "| Meeting Date  | Meeting Time| Completed Before Meeting  | Discuss at Meeting |\n",
    "|---|---|---|---|\n",
    "| 2/7  |  5 PM | Read & Think about COGS 108 expectations; brainstorm topics/questions  | Determine best form of communication; Discuss and decide on final project topic; discuss hypothesis; begin background research | \n",
    "| 2/14  |  5 PM |  Find Datasets  | Discuss datasets, start cleaning and wrangling | \n",
    "| 2/21  | 5 PM  | Continue cleaning and wrangling, start EDA  | Discuss Wrangling and possible analytical approaches; Assign group members to lead each specific part   |\n",
    "| 2/28  | 5 PM  | Import & Wrangle Data, EDA | Review/Edit wrangling/EDA; Discuss Analysis Plan   |\n",
    "| 3/6  | 5 PM  | Finalize wrangling/EDA; Begin Analysis | Discuss/edit Analysis; Complete project check-in, Final Video  |\n",
    "| 3/13  | 5 PM  | Complete analysis; Draft results/conclusion/discussion| Discuss/edit full project, Final video |\n",
    "| 3/20  | Before 11:59 PM  | Complete all individual and collective parts of the project | Turn in Final Project & Group Project Surveys |"
   ]
  },
  {
   "cell_type": "markdown",
   "metadata": {},
   "source": []
  }
 ],
 "metadata": {
  "kernelspec": {
   "display_name": "Python 3 (ipykernel)",
   "language": "python",
   "name": "python3"
  },
  "language_info": {
   "codemirror_mode": {
    "name": "ipython",
    "version": 3
   },
   "file_extension": ".py",
   "mimetype": "text/x-python",
   "name": "python",
   "nbconvert_exporter": "python",
   "pygments_lexer": "ipython3",
   "version": "3.9.7"
  }
 },
 "nbformat": 4,
 "nbformat_minor": 2
}
