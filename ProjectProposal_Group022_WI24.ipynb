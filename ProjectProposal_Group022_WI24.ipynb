{
 "cells": [
  {
   "cell_type": "markdown",
   "metadata": {},
   "source": [
    "# COGS 108 - Project Proposal"
   ]
  },
  {
   "cell_type": "markdown",
   "metadata": {},
   "source": [
    "# Names\n",
    "\n",
    "- Marina Hu\n",
    "- Allison Huang\n",
    "- Samuel Lee\n",
    "- Audrey Liang\n",
    "- Lilian Xia "
   ]
  },
  {
   "cell_type": "markdown",
   "metadata": {},
   "source": [
    "# Research Question"
   ]
  },
  {
   "cell_type": "markdown",
   "metadata": {},
   "source": [
    "-  Include a specific, clear data science question.\n",
    "-  Make sure what you're measuring (variables) to answer the question is clear\n",
    "\n",
    "What is your research question? Include the specific question you're setting out to answer. This question should be specific, answerable with data, and clear. A general question with specific subquestions is permitted. (1-2 sentences)\n",
    "\n"
   ]
  },
  {
   "cell_type": "markdown",
   "metadata": {},
   "source": [
    "## Background and Prior Work"
   ]
  },
  {
   "cell_type": "markdown",
   "metadata": {},
   "source": [
    "COVID-19 has changed the life in many aspects. In response to COVID-19, many governments issued mandatory stay-at-home policies. Boman and Gallupe (2020) found that the lockdown policy had some unintended impacts on the United States in which crime had decreased after the pandemic. However, after breaking down the crime categories, they found that the drop was driven by decreases in minor offenses usually committed in peer groups, while serious crimes (e.g., homicide) either remained constant or increased. Because of the variability between different types of crimes, we decided to focus on just the violent crimes, which are defined by the FBI’s Uniform Crime Reporting (UCR) Program as composed of four offenses: murder and nonnegligent manslaughter, forcible rape, robbery, and aggravated assault, and study the correlation between COVID-19 and violent crime rates across the states. \n",
    "\n",
    "Previous works looking at eight large US cities during the first few weeks of the pandemic found disparate impacts by crime type and location (Stickle & Felson, 2020). In order to have a better understanding of the correlation, we further narrowed down the location to one of the main states in the United States, California. Avila et al. (2023) examined the impact of COVID-19 on the violent crime rates in the city of Stockton, California, and they found that robbery and simple assault were increased while homicide and aggravated assult were not affected by the pandemic. The study further broke down the violent crimes and compared them across the categories in one city. The results provided insightful opinions for the local police departments. Instead of looking at one specific city, we want to examine the difference in the impacts across different cities in California and compare which city is mostly affected (violent crime rates increased the most after the pandemic), which may help to visualize the disparate impacts of COVID-19 in terms of violent crimes committed. \n",
    "\n",
    "\n",
    "1. <a name=\"cite_note-2\"></a> Avila, D., Gao, H., Randol, B., & Chintakrindi, S. (2023). COVID-19: Examining the Impact of the Global Pandemic on Violent Crime Rates in the Central Valley of California. International Journal, 12, 43. \n",
    "2. <a name=\"cite_note-2\"></a> Boman, J.H., Gallupe, O. Has COVID-19 Changed Crime? Crime Rates in the United States during the Pandemic. Am J Crim Just 45, 537–545 (2020). https://doi.org/10.1007/s12103-020-09551-3 \n",
    "3. <a name=\"cite_note-3\"></a> Stickle, B., Felson, M. Crime Rates in a Pandemic: the Largest Criminological Experiment in History. Am J Crim Just 45, 525–536 (2020). https://doi.org/10.1007/s12103-020-09546-0\n"
   ]
  },
  {
   "cell_type": "markdown",
   "metadata": {},
   "source": [
    "# Hypothesis\n"
   ]
  },
  {
   "cell_type": "markdown",
   "metadata": {},
   "source": [
    "\n",
    "Because California is the most populated state in the nation, we hypothesize that California was impacted the most due to COVID-19. Furthermore, because of COVID-19's rising unemployment rates and driving socioeconomic disparities even more, we hypothesize that there is a relationship between states more heavily impacted by COVID-19 and rising serious crime rates, and we’ll specifically see this in California’s data. "
   ]
  },
  {
   "cell_type": "markdown",
   "metadata": {},
   "source": [
    "# Data"
   ]
  },
  {
   "cell_type": "markdown",
   "metadata": {},
   "source": [
    "1. The ***ideal dataset*** would be one data sheet that has the death rate, hospitalization rate, vaccination rate, unemployment rate, average daily cases, and crime rates from March 2020 to December 2022 for all 50 states altogether. On this one datasheet, there would ideally be 50 observations for each of the states, but for each state, there should be monthly average data for each of the variables (mentioned previously). The data would be collected by a credible source like the CDC or a governmental health agency, and this data would already be cleaned and stored in an Excel spreadsheet.\n",
    "\n",
    "2. Search for potential **real** datasets that could provide you with something useful for this project.  You do not have to find every piece of data you will use, but you do need to have demonstrated some idea that (a) this data is gettable and (b) that this data may be different from what your ideal is."
   ]
  },
  {
   "cell_type": "markdown",
   "metadata": {},
   "source": [
    "### 2\n",
    "For the first topic regarding the impact of COVID-19 across different areas within states, a potential dataset that could provide useful insights is the COVID-19 confirmed cases and deaths dataset provided by the Centers for Disease Control and Prevention (CDC) or state health departments. These datasets typically include information on the number of cases, deaths, demographics, and geographic location (such as county or zip code level) of COVID-19 patients. For example, [this data](https://data.cdc.gov/Public-Health-Surveillance/United-States-COVID-19-County-Level-of-Community-T/8396-v7yb/about_data) contains several columns like county, new cases, community transmission level, etc., which is a good dataset for us to analyze.\n",
    "\n",
    "For the second topic regarding the correlation between types of crimes committed within California and their locations, a potential dataset that could be useful is the Uniform Crime Reporting (UCR) Program dataset provided by the Federal Bureau of Investigation (FBI) or the California Department of Justice. However, since there is an enormous amount of data available, more research needs to be conducted to find the appropriate datasets for our projects. In addition, obtaining detailed crime data at a granular level might be more challenging due to privacy concerns and data reporting practices of law enforcement agencies. Many data we have seen are presented as data tables rather than raw data, which is harder for us to analyze, especially coupled with COVID-19."
   ]
  },
  {
   "cell_type": "markdown",
   "metadata": {},
   "source": [
    "# Ethics & Privacy"
   ]
  },
  {
   "cell_type": "markdown",
   "metadata": {},
   "source": [
    "- Thoughtful discussion of ethical concerns included\n",
    "- Ethical concerns consider the whole data science process (question asked, data collected, data being used, the bias in data, analysis, post-analysis, etc.)\n",
    "- How your group handled bias/ethical concerns clearly described\n",
    "\n",
    "Acknowledge and address any ethics & privacy related issues of your question(s), proposed dataset(s), and/or analyses. Use the information provided in lecture to guide your group discussion and thinking. If you need further guidance, check out [Deon's Ethics Checklist](http://deon.drivendata.org/#data-science-ethics-checklist). In particular:\n",
    "\n",
    "- Are there any biases/privacy/terms of use issues with the data you propsed?\n",
    "- Are there potential biases in your dataset(s), in terms of who it composes, and how it was collected, that may be problematic in terms of it allowing for equitable analysis? (For example, does your data exclude particular populations, or is it likely to reflect particular human biases in a way that could be a problem?)\n",
    "- How will you set out to detect these specific biases before, during, and after/when communicating your analysis?\n",
    "- Are there any other issues related to your topic area, data, and/or analyses that are potentially problematic in terms of data privacy and equitable impact?\n",
    "- How will you handle issues you identified?"
   ]
  },
  {
   "cell_type": "markdown",
   "metadata": {},
   "source": [
    "# Team Expectations "
   ]
  },
  {
   "cell_type": "markdown",
   "metadata": {},
   "source": [
    "\n",
    "* *Team Expectation 1: Communication*\n",
    "    - Please make sure to tell the group if you can't finish your work by the deadline, or if any problems come up. If you can't make a meeting, be sure to let everybody know in the group discord. \n",
    "* *Team Expectation 2: Work Style*\n",
    "    - The team will have designated work during the meetings before the due dates and will try to follow the project timeline as best as possible to ensure that we are all caught up on work. \n",
    "* *Team Expecation 3: Conflict Resolution*\n",
    "    - If any problems arise, the team will either bring it up at the weekly Wednesday meeting or bring it up in the general discord channel. "
   ]
  },
  {
   "cell_type": "markdown",
   "metadata": {},
   "source": [
    "# Project Timeline Proposal"
   ]
  },
  {
   "cell_type": "markdown",
   "metadata": {},
   "source": [
    "Specify your team's specific project timeline. An example timeline has been provided. Changes the dates, times, names, and details to fit your group's plan.\n",
    "\n",
    "If you think you will need any special resources or training outside what we have covered in COGS 108 to solve your problem, then your proposal should state these clearly. For example, if you have selected a problem that involves implementing multiple neural networks, please state this so we can make sure you know what you’re doing and so we can point you to resources you will need to implement your project. Note that you are not required to use outside methods.\n",
    "\n",
    "\n",
    "\n",
    "| Meeting Date  | Meeting Time| Completed Before Meeting  | Discuss at Meeting |\n",
    "|---|---|---|---|\n",
    "| 2/7  |  5 PM | Read & Think about COGS 108 expectations; brainstorm topics/questions  | Determine best form of communication; Discuss and decide on final project topic; discuss hypothesis; begin background research | \n",
    "| 2/14  |  5 PM |  Find Datasets  | Discuss datasets, start cleaning and wrangling | \n",
    "| 2/21  | 5 PM  | Continue cleaning and wrangling, start EDA  | Discuss Wrangling and possible analytical approaches; Assign group members to lead each specific part   |\n",
    "| 2/28  | 5 PM  | Import & Wrangle Data, EDA | Review/Edit wrangling/EDA; Discuss Analysis Plan   |\n",
    "| 3/6  | 5 PM  | Finalize wrangling/EDA; Begin Analysis | Discuss/edit Analysis; Complete project check-in, Final Video  |\n",
    "| 3/13  | 5 PM  | Complete analysis; Draft results/conclusion/discussion| Discuss/edit full project, Final video |\n",
    "| 3/20  | Before 11:59 PM  | Complete all individual and collective parts of the project | Turn in Final Project & Group Project Surveys |"
   ]
  },
  {
   "cell_type": "markdown",
   "metadata": {},
   "source": []
  }
 ],
 "metadata": {
  "kernelspec": {
   "display_name": "Python 3 (ipykernel)",
   "language": "python",
   "name": "python3"
  },
  "language_info": {
   "codemirror_mode": {
    "name": "ipython",
    "version": 3
   },
   "file_extension": ".py",
   "mimetype": "text/x-python",
   "name": "python",
   "nbconvert_exporter": "python",
   "pygments_lexer": "ipython3",
   "version": "3.9.7"
  }
 },
 "nbformat": 4,
 "nbformat_minor": 2
}
