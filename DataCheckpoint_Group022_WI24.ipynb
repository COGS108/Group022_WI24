{
 "cells": [
  {
   "cell_type": "markdown",
   "metadata": {},
   "source": [
    "**If you lost points on the last checkpoint you can get them back by responding to TA/IA feedback**  \n",
    "\n",
    "Update/change the relevant sections where you lost those points, make sure you respond on GitHub Issues to your TA/IA to call their attention to the changes you made here.\n",
    "\n",
    "Please update your Timeline... no battle plan survives contact with the enemy, so make sure we understand how your plans have changed."
   ]
  },
  {
   "cell_type": "markdown",
   "metadata": {},
   "source": [
    "# COGS 108 - Data Checkpoint"
   ]
  },
  {
   "cell_type": "markdown",
   "metadata": {},
   "source": [
    "# Names\n",
    "\n",
    "- Marina Hu\n",
    "- Allison Huang\n",
    "- Samuel Lee\n",
    "- Audrey Liang\n",
    "- Lilian Xia "
   ]
  },
  {
   "cell_type": "markdown",
   "metadata": {},
   "source": [
    "# Research Question"
   ]
  },
  {
   "cell_type": "markdown",
   "metadata": {},
   "source": [
    "We want to figure out the following questions for this project: \n",
    "\n",
    "- How has COVID-19 affected different states in the United States? (We will ideally be looking at data from 2019-2022)\n",
    "- Is there a relationship between COVID-19 and violent crime rates across the states, but specifically in California?\n",
    "\n",
    "To do so, here are some of the variables we will be looking at: \n",
    "- Violent crime rates from around the years 2019-2022\n",
    "- Hospitalization rates\n",
    "- State income\n",
    "- Unemployment rates\n",
    "- Death rates\n",
    "- Emergency Room Visits"
   ]
  },
  {
   "cell_type": "markdown",
   "metadata": {},
   "source": [
    "## Background and Prior Work"
   ]
  },
  {
   "cell_type": "markdown",
   "metadata": {},
   "source": [
    "In March of 2020, the COVID-19 virus was labelled a pandemic, causing various parts of the world to undergo lockdown in an effort to try and combat this extremely transmissive virus. During this time, many countries had seen downward trends, with less people going to eat out, going to work, and generally travelling less. Our general research aims to find just how this virus impacted each of the 50 states across America.\n",
    "\n",
    "As a subtopic, we are also interested in finding out the impact of COVID-19 on the crime rates in the States as well, but specifically in California. We will be focusing on the rate of violent crimes (such as assault, murder, armed robbery, etc.), since studies have shown that minor offenses showed a downward trend, which was speculated to be because of the lockdowns keeping juvenile offenders indoors.\n",
    "\n",
    "The University of New Hampshire did a study on the economic impact of COVID, which shows an immediate drop in jobs across the United States at the start of the pandemic in Chart 1, and an upward trend immediately after, which started to slow down by the end of 2020 <a name=\"cite_ref-1\"></a>[<sup>4</sup>](#cite_note-4). As of 2021, Ettlinger has seen recovery in the economic status, with the unemployment rate going up in each state. While this is great news, Ettlinger notes that many industries have struggled to recover, such as the Leisure and Hospitality industry, which is reasonable given that at this point, many states were just getting out of lockdown. <a name=\"cite_ref-1\"></a>[<sup>4</sup>](#cite_note-4).\n",
    "\n",
    "Additionally, there are many links on the official Centers for Disease Control and Prevention (CDC) that provide datasets for the health impact per state in the United States. The CDC allows us to see the visualizations of categories like COVID patients, death rates, vaccination rates, and hospital admissions since August 1st, 2020. While this is just raw data, further data analysis would allow us to see data such as the net change in the number of hospitalizations in California. <a name=\"cite_ref-2\"></a>[<sup>3</sup>](#cite_note-3)\n",
    "\n",
    "For our subtopic, Boman and Gallupe (2020) found that the lockdown policy had some unintended impacts on the United States in which crime had decreased after the pandemic. However, after breaking down the crime categories, they found that the drop was driven by decreases in minor offenses usually committed in peer groups, while serious crimes (e.g., homicide) either remained constant or increased. <a name=\"cite_ref-2\"></a>[<sup>2</sup>](#cite_note-3)Because of the variability between different types of crimes, we decided to focus on just the violent crimes, which are defined by the FBI’s Uniform Crime Reporting (UCR) Program as composed of four offenses: murder and nonnegligent manslaughter, forcible rape, robbery, and aggravated assault, and study the correlation between COVID-19 and violent crime rates across the states. \n",
    "\n",
    "Previous works looking at eight large US cities during the first few weeks of the pandemic found disparate impacts by crime type and location (Stickle & Felson, 2020). <a name=\"cite_ref-5\"></a>[<sup>5</sup>](#cite_note-5)In order to have a better understanding of the correlation, we further narrowed down the location to one of the main states in the United States, California. Avila et al. (2023)<a name=\"cite_ref-1\"></a>[<sup>1</sup>](#cite_note-1) examined the impact of COVID-19 on the violent crime rates in the city of Stockton, California, and they found that robbery and simple assault were increased while homicide and aggravated assult were not affected by the pandemic. The study further broke down the violent crimes and compared them across the categories in one city. The results provided insightful opinions for the local police departments. Instead of looking at one specific city, we want to examine the difference in the impacts across different cities in California and compare which city is mostly affected (violent crime rates increased the most after the pandemic), which may help to visualize the disparate impacts of COVID-19 in terms of violent crimes committed. \n",
    "\n",
    "\n",
    "1. <a name=\"cite_note-1\"></a> Avila, D., Gao, H., Randol, B., & Chintakrindi, S. (2023). COVID-19: Examining the Impact of the Global Pandemic on Violent Crime Rates in the Central Valley of California. International Journal, 12, 43. \n",
    "2. <a name=\"cite_note-2\"></a> Boman, J.H., Gallupe, O. Has COVID-19 Changed Crime? Crime Rates in the United States during the Pandemic. Am J Crim Just 45, 537–545 (2020). https://doi.org/10.1007/s12103-020-09551-3 \n",
    "3. <a name=\"cite_note-3\"></a>  Centers for Disease Control and Prevention. (n.d.). CDC Covid Data tracker. Centers for Disease Control and Prevention. https://covid.cdc.gov/covid-data-tracker/#maps_total-admissions-state \n",
    "4. <a name=\"cite_note-4\"></a> Ettlinger, M. (2021, October 22). Covid-19 economic crisis: By State. UNH. https://carsey.unh.edu/publication/COVID-19-Economic-Impact-By-State \n",
    "5. <a name=\"cite_note-5\"></a> Stickle, B., Felson, M. Crime Rates in a Pandemic: the Largest Criminological Experiment in History. Am J Crim Just 45, 525–536 (2020). https://doi.org/10.1007/s12103-020-09546-0\n"
   ]
  },
  {
   "cell_type": "markdown",
   "metadata": {},
   "source": [
    "# Hypothesis\n"
   ]
  },
  {
   "cell_type": "markdown",
   "metadata": {},
   "source": [
    "\n",
    "Because California is the most populated state in the nation, we hypothesize that California was impacted the most due to COVID-19. Furthermore, because of COVID-19's rising unemployment rates and driving socioeconomic disparities even more, we hypothesize that there is a relationship between states more heavily impacted by COVID-19 and rising serious crime rates, and we’ll specifically see this in California’s data. "
   ]
  },
  {
   "cell_type": "markdown",
   "metadata": {},
   "source": [
    "# Data"
   ]
  },
  {
   "cell_type": "markdown",
   "metadata": {},
   "source": [
    "## Data overview\n",
    "\n",
    "For each dataset include the following information\n",
    "- Dataset #1\n",
    "  - Dataset Name:\n",
    "  - Link to the dataset:\n",
    "  - Number of observations:\n",
    "  - Number of variables:\n",
    "- Dataset #2 (if you have more than one!)\n",
    "  - Dataset Name:\n",
    "  - Link to the dataset:\n",
    "  - Number of observations:\n",
    "  - Number of variables:\n",
    "- etc\n",
    "\n",
    "Now write 2 - 5 sentences describing each dataset here. Include a short description of the important variables in the dataset; what the metrics and datatypes are, what concepts they may be proxies for. Include information about how you would need to wrangle/clean/preprocess the dataset\n",
    "\n",
    "If you plan to use multiple datasets, add a few sentences about how you plan to combine these datasets."
   ]
  },
  {
   "cell_type": "markdown",
   "metadata": {},
   "source": [
    "## Dataset #1 (use name instead of number here)"
   ]
  },
  {
   "cell_type": "code",
   "execution_count": null,
   "metadata": {},
   "outputs": [],
   "source": [
    "## YOUR CODE TO LOAD/CLEAN/TIDY/WRANGLE THE DATA GOES HERE\n",
    "## FEEL FREE TO ADD MULTIPLE CELLS PER SECTION "
   ]
  },
  {
   "cell_type": "markdown",
   "metadata": {},
   "source": [
    "## Dataset #2 (if you have more than one, use name instead of number here)"
   ]
  },
  {
   "cell_type": "code",
   "execution_count": null,
   "metadata": {},
   "outputs": [],
   "source": [
    "## YOUR CODE TO LOAD/CLEAN/TIDY/WRANGLE THE DATA GOES HERE\n",
    "## FEEL FREE TO ADD MULTIPLE CELLS PER SECTION "
   ]
  },
  {
   "cell_type": "markdown",
   "metadata": {},
   "source": [
    "# Ethics & Privacy"
   ]
  },
  {
   "cell_type": "markdown",
   "metadata": {},
   "source": [
    "In regards to potential ethical concerns of this project, there may be various biases depending on the specific dataset used. For crime data, it is likely that datasets are not reflective of all the crimes committed in a specific state or region but rather only those reported by the police. When conducting our analyses, we need to be aware of this potential collection bias as certain crimes may be underreported or overreported due to factors like law enforcement, community awareness campaigns, recent events, etc. Additionally, we need to consider many potential confounding variables in our analysis; for example, crime rates can vary based on geographical and demographic factors like population density, socioeconomic status, and cultural influences. Any correlations or associations found from our analyses may be due to a range of factors that may not be directly identified through our datasets. Similarly, for COVID-19 data, it is likely that datasets are subject to testing and reporting biases that are influenced by the availability and accessibility to testing resources and healthcare facilities in certain regions and populations. Differences in case definitions, data collection methods, and reporting protocols may create variations in the data cross regions. Confounding variables like asymptomatic cases, pre-existing health conditions, and public health interventions can also skew the measures of the “impact” of COVID-19. Keeping these considerations in mind, we can closely review how data was collected to see if certain groups were potentially overrepresented or underrepresented in the dataset. We can also look for any inconsistencies, missing values, or data entry errors that potentially affect the integrity of the dataset and consider whether this is due to any systematic biases in data collection practices. Statistical techniques can also be used to detect patterns, outliers, and anomalies in the data and help control for confounding variables. Lastly, we can compare and cross-reference multiple datasets from different sources to validate our findings and identify potential biases.\n",
    "\n",
    "In general, in regards to privacy, no Personal Identifiable Information is being used because the data collected are more generalized by region. We should also keep in consideration that many crime and COVID-19 datasets are collected and maintained by law enforcement agencies or the government and therefore may be subject to terms of use agreements, restricting how data can be accessed or shared. Another general issue with this topic is data transparency as we want to ensure that findings in this research study avoid selective reporting or manipulation of data to fit a particular narrative. To address this, we should work to address any potential blindspots and work to mitigate any dataset bias such as stereotype perpetuation and confirmation bias. Another issue to consider is fairness and equity as a potential concern is that analyzing crime data in correlation with COVID-19 impact may reveal disparities in the distribution of resources, access to healthcare, and exposure to risk factors across marginalized populations. In our analysis, we should consider potential unintended consequences and prevent data from being misinterpreted or used to justify any discriminatory practices or policies."
   ]
  },
  {
   "cell_type": "markdown",
   "metadata": {},
   "source": [
    "# Team Expectations "
   ]
  },
  {
   "cell_type": "markdown",
   "metadata": {},
   "source": [
    "\n",
    "* *Team Expectation 1: Communication*\n",
    "    - Please make sure to tell the group if you can't finish your work by the deadline, or if any problems come up. If you can't make a meeting, be sure to let everybody know in the group discord. \n",
    "* *Team Expectation 2: Work Style*\n",
    "    - The team will have designated work during the meetings before the due dates and will try to follow the project timeline as best as possible to ensure that we are all caught up on work. \n",
    "* *Team Expecation 3: Conflict Resolution*\n",
    "    - If any problems arise, the team will either bring it up at the weekly Wednesday meeting or bring it up in the general discord channel. "
   ]
  },
  {
   "cell_type": "markdown",
   "metadata": {},
   "source": [
    "# Project Timeline Proposal"
   ]
  },
  {
   "cell_type": "markdown",
   "metadata": {},
   "source": [
    "Specify your team's specific project timeline. An example timeline has been provided. Changes the dates, times, names, and details to fit your group's plan.\n",
    "\n",
    "If you think you will need any special resources or training outside what we have covered in COGS 108 to solve your problem, then your proposal should state these clearly. For example, if you have selected a problem that involves implementing multiple neural networks, please state this so we can make sure you know what you’re doing and so we can point you to resources you will need to implement your project. Note that you are not required to use outside methods.\n",
    "\n",
    "\n",
    "\n",
    "| Meeting Date  | Meeting Time| Completed Before Meeting  | Discuss at Meeting |\n",
    "|---|---|---|---|\n",
    "| 2/7  |  5 PM | Read & Think about COGS 108 expectations; brainstorm topics/questions  | Determine best form of communication; Discuss and decide on final project topic; discuss hypothesis; begin background research | \n",
    "| 2/14  |  5 PM |  Find Datasets  | Discuss datasets, start cleaning and wrangling | \n",
    "| 2/21  | 5 PM  | Continue cleaning and wrangling, start EDA  | Discuss Wrangling and possible analytical approaches; Assign group members to lead each specific part   |\n",
    "| 2/28  | 5 PM  | Import & Wrangle Data, EDA | Review/Edit wrangling/EDA; Discuss Analysis Plan   |\n",
    "| 3/6  | 5 PM  | Finalize wrangling/EDA; Begin Analysis | Discuss/edit Analysis; Complete project check-in, Final Video  |\n",
    "| 3/13  | 5 PM  | Complete analysis; Draft results/conclusion/discussion| Discuss/edit full project, Final video |\n",
    "| 3/20  | Before 11:59 PM  | Complete all individual and collective parts of the project | Turn in Final Project & Group Project Surveys |"
   ]
  }
 ],
 "metadata": {
  "kernelspec": {
   "display_name": "Python 3 (ipykernel)",
   "language": "python",
   "name": "python3"
  },
  "language_info": {
   "codemirror_mode": {
    "name": "ipython",
    "version": 3
   },
   "file_extension": ".py",
   "mimetype": "text/x-python",
   "name": "python",
   "nbconvert_exporter": "python",
   "pygments_lexer": "ipython3",
   "version": "3.9.7"
  }
 },
 "nbformat": 4,
 "nbformat_minor": 2
}
